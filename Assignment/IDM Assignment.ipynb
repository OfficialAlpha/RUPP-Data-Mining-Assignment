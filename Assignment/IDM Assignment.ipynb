{
 "cells": [
  {
   "cell_type": "code",
   "execution_count": 3,
   "id": "3d9f4d9b",
   "metadata": {},
   "outputs": [],
   "source": [
    "import pandas as pd\n",
    "import numpy as np\n"
   ]
  },
  {
   "cell_type": "code",
   "execution_count": 4,
   "id": "5bb1c679",
   "metadata": {},
   "outputs": [],
   "source": [
    "data = 'newsCorpora_with_header.csv'\n",
    "df = pd.read_csv(data, encoding=\"utf8\", sep='\\t', usecols=[\"TITLE\", \"CATEGORY\"])"
   ]
  },
  {
   "cell_type": "code",
   "execution_count": 5,
   "id": "016fbb54",
   "metadata": {},
   "outputs": [
    {
     "name": "stdout",
     "output_type": "stream",
     "text": [
      "                                                    TITLE CATEGORY\n",
      "0       Fed official says weak data caused by weather,...        b\n",
      "1       Fed's Charles Plosser sees high bar for change...        b\n",
      "2       US open: Stocks fall after Fed official hints ...        b\n",
      "3       Fed risks falling 'behind the curve', Charles ...        b\n",
      "4       Fed's Plosser: Nasty Weather Has Curbed Job Gr...        b\n",
      "...                                                   ...      ...\n",
      "422932  Surgeons to remove 4-year-old's rib to rebuild...        m\n",
      "422933  Boy to have surgery on esophagus after battery...        m\n",
      "422934  Child who swallowed battery to have reconstruc...        m\n",
      "422935  Phoenix boy undergoes surgery to repair throat...        m\n",
      "422936  Phoenix boy undergoes surgery to repair throat...        m\n",
      "\n",
      "[422937 rows x 2 columns]\n"
     ]
    }
   ],
   "source": [
    "print(df)"
   ]
  },
  {
   "cell_type": "code",
   "execution_count": 6,
   "id": "cbf161a5",
   "metadata": {},
   "outputs": [],
   "source": [
    "import texthero as hero\n",
    "from texthero import preprocessing\n",
    "custom_pipeline = [\n",
    "                     preprocessing.lowercase\n",
    "                   , preprocessing.remove_digits\n",
    "                   , preprocessing.remove_punctuation\n",
    "                   , preprocessing.remove_diacritics\n",
    "                   , preprocessing.remove_stopwords\n",
    "                   , preprocessing.remove_whitespace\n",
    "                   , preprocessing.remove_html_tags\n",
    "                   , preprocessing.remove_urls\n",
    "                   ]\n",
    "      \n",
    "df['TITLE'] = hero.clean(df['TITLE'] ,pipeline=custom_pipeline)"
   ]
  },
  {
   "cell_type": "code",
   "execution_count": 7,
   "id": "52ba1910",
   "metadata": {},
   "outputs": [
    {
     "name": "stdout",
     "output_type": "stream",
     "text": [
      "                                                    TITLE CATEGORY\n",
      "0       fed official says weak data caused weather slo...        b\n",
      "1       fed charles plosser sees high bar change pace ...        b\n",
      "2       us open stocks fall fed official hints acceler...        b\n",
      "3       fed risks falling behind curve charles plosser...        b\n",
      "4             fed plosser nasty weather curbed job growth        b\n",
      "...                                                   ...      ...\n",
      "422932  surgeons remove year old rib rebuild damaged t...        m\n",
      "422933    boy surgery esophagus battery burns hole throat        m\n",
      "422934  child swallowed battery reconstructive surgery...        m\n",
      "422935  phoenix boy undergoes surgery repair throat da...        m\n",
      "422936  phoenix boy undergoes surgery repair throat da...        m\n",
      "\n",
      "[422937 rows x 2 columns]\n"
     ]
    }
   ],
   "source": [
    "print(df)"
   ]
  },
  {
   "cell_type": "code",
   "execution_count": 8,
   "id": "8c001e22",
   "metadata": {},
   "outputs": [
    {
     "name": "stdout",
     "output_type": "stream",
     "text": [
      "                                                    TITLE CATEGORY  \\\n",
      "0       fed official says weak data caused weather slo...        b   \n",
      "1       fed charles plosser sees high bar change pace ...        b   \n",
      "2       us open stocks fall fed official hints acceler...        b   \n",
      "3       fed risks falling behind curve charles plosser...        b   \n",
      "4             fed plosser nasty weather curbed job growth        b   \n",
      "...                                                   ...      ...   \n",
      "422932  surgeons remove year old rib rebuild damaged t...        m   \n",
      "422933    boy surgery esophagus battery burns hole throat        m   \n",
      "422934  child swallowed battery reconstructive surgery...        m   \n",
      "422935  phoenix boy undergoes surgery repair throat da...        m   \n",
      "422936  phoenix boy undergoes surgery repair throat da...        m   \n",
      "\n",
      "                                                    tfidf  \n",
      "0       [0.0, 0.0, 0.0, 0.0, 0.0, 0.0, 0.0, 0.0, 0.0, ...  \n",
      "1       [0.0, 0.0, 0.0, 0.0, 0.0, 0.0, 0.0, 0.0, 0.0, ...  \n",
      "2       [0.0, 0.0, 0.0, 0.0, 0.0, 0.0, 0.0, 0.0, 0.0, ...  \n",
      "3       [0.0, 0.0, 0.0, 0.0, 0.0, 0.0, 0.0, 0.0, 0.0, ...  \n",
      "4       [0.0, 0.0, 0.0, 0.0, 0.0, 0.0, 0.0, 0.0, 0.0, ...  \n",
      "...                                                   ...  \n",
      "422932  [0.0, 0.0, 0.0, 0.0, 0.0, 0.0, 0.0, 0.0, 0.0, ...  \n",
      "422933  [0.0, 0.0, 0.0, 0.0, 0.0, 0.0, 0.0, 0.0, 0.0, ...  \n",
      "422934  [0.0, 0.0, 0.0, 0.0, 0.0, 0.0, 0.0, 0.0, 0.0, ...  \n",
      "422935  [0.0, 0.0, 0.0, 0.0, 0.0, 0.0, 0.0, 0.0, 0.0, ...  \n",
      "422936  [0.0, 0.0, 0.0, 0.0, 0.0, 0.0, 0.0, 0.0, 0.0, ...  \n",
      "\n",
      "[422937 rows x 3 columns]\n"
     ]
    }
   ],
   "source": [
    "df['tfidf'] = (\n",
    "    hero.tfidf(df['TITLE'], max_features=100)\n",
    ")\n",
    "print(df)"
   ]
  },
  {
   "cell_type": "code",
   "execution_count": 9,
   "id": "18ca51e5",
   "metadata": {},
   "outputs": [
    {
     "data": {
      "text/plain": [
       "list"
      ]
     },
     "execution_count": 9,
     "metadata": {},
     "output_type": "execute_result"
    }
   ],
   "source": [
    "X = df['tfidf'].to_list()\n",
    "\n",
    "type(X)"
   ]
  },
  {
   "cell_type": "code",
   "execution_count": 10,
   "id": "a776154c",
   "metadata": {},
   "outputs": [
    {
     "data": {
      "text/plain": [
       "0    b\n",
       "1    b\n",
       "2    b\n",
       "3    b\n",
       "4    b\n",
       "Name: CATEGORY, dtype: object"
      ]
     },
     "execution_count": 10,
     "metadata": {},
     "output_type": "execute_result"
    }
   ],
   "source": [
    "df['CATEGORY'].head(5)"
   ]
  },
  {
   "cell_type": "code",
   "execution_count": 11,
   "id": "ce7bab55",
   "metadata": {},
   "outputs": [
    {
     "data": {
      "text/plain": [
       "{'b': 0, 't': 1, 'e': 2, 'm': 3}"
      ]
     },
     "execution_count": 11,
     "metadata": {},
     "output_type": "execute_result"
    }
   ],
   "source": [
    "category_ids = {}\n",
    "current_id = 0\n",
    "y = []\n",
    "\n",
    "# generate label to number\n",
    "for label in df['CATEGORY']:\n",
    "    if not label in category_ids:\n",
    "        category_ids[label] = current_id\n",
    "        current_id +=1\n",
    "    id_ = category_ids[label]\n",
    "    y.append(id_)\n",
    "    \n",
    "    \n",
    "category_ids"
   ]
  },
  {
   "cell_type": "code",
   "execution_count": 12,
   "id": "3905a1ca",
   "metadata": {},
   "outputs": [
    {
     "data": {
      "text/plain": [
       "list"
      ]
     },
     "execution_count": 12,
     "metadata": {},
     "output_type": "execute_result"
    }
   ],
   "source": [
    "type(y)"
   ]
  },
  {
   "cell_type": "code",
   "execution_count": 13,
   "id": "f0a48b58",
   "metadata": {},
   "outputs": [],
   "source": [
    "from sklearn.model_selection import train_test_split\n",
    "X_train, X_test, y_train, y_test = train_test_split(X,y,test_size=0.2)"
   ]
  },
  {
   "cell_type": "code",
   "execution_count": 14,
   "id": "f1174eb9",
   "metadata": {},
   "outputs": [
    {
     "data": {
      "text/html": [
       "<style>#sk-container-id-1 {color: black;background-color: white;}#sk-container-id-1 pre{padding: 0;}#sk-container-id-1 div.sk-toggleable {background-color: white;}#sk-container-id-1 label.sk-toggleable__label {cursor: pointer;display: block;width: 100%;margin-bottom: 0;padding: 0.3em;box-sizing: border-box;text-align: center;}#sk-container-id-1 label.sk-toggleable__label-arrow:before {content: \"▸\";float: left;margin-right: 0.25em;color: #696969;}#sk-container-id-1 label.sk-toggleable__label-arrow:hover:before {color: black;}#sk-container-id-1 div.sk-estimator:hover label.sk-toggleable__label-arrow:before {color: black;}#sk-container-id-1 div.sk-toggleable__content {max-height: 0;max-width: 0;overflow: hidden;text-align: left;background-color: #f0f8ff;}#sk-container-id-1 div.sk-toggleable__content pre {margin: 0.2em;color: black;border-radius: 0.25em;background-color: #f0f8ff;}#sk-container-id-1 input.sk-toggleable__control:checked~div.sk-toggleable__content {max-height: 200px;max-width: 100%;overflow: auto;}#sk-container-id-1 input.sk-toggleable__control:checked~label.sk-toggleable__label-arrow:before {content: \"▾\";}#sk-container-id-1 div.sk-estimator input.sk-toggleable__control:checked~label.sk-toggleable__label {background-color: #d4ebff;}#sk-container-id-1 div.sk-label input.sk-toggleable__control:checked~label.sk-toggleable__label {background-color: #d4ebff;}#sk-container-id-1 input.sk-hidden--visually {border: 0;clip: rect(1px 1px 1px 1px);clip: rect(1px, 1px, 1px, 1px);height: 1px;margin: -1px;overflow: hidden;padding: 0;position: absolute;width: 1px;}#sk-container-id-1 div.sk-estimator {font-family: monospace;background-color: #f0f8ff;border: 1px dotted black;border-radius: 0.25em;box-sizing: border-box;margin-bottom: 0.5em;}#sk-container-id-1 div.sk-estimator:hover {background-color: #d4ebff;}#sk-container-id-1 div.sk-parallel-item::after {content: \"\";width: 100%;border-bottom: 1px solid gray;flex-grow: 1;}#sk-container-id-1 div.sk-label:hover label.sk-toggleable__label {background-color: #d4ebff;}#sk-container-id-1 div.sk-serial::before {content: \"\";position: absolute;border-left: 1px solid gray;box-sizing: border-box;top: 0;bottom: 0;left: 50%;z-index: 0;}#sk-container-id-1 div.sk-serial {display: flex;flex-direction: column;align-items: center;background-color: white;padding-right: 0.2em;padding-left: 0.2em;position: relative;}#sk-container-id-1 div.sk-item {position: relative;z-index: 1;}#sk-container-id-1 div.sk-parallel {display: flex;align-items: stretch;justify-content: center;background-color: white;position: relative;}#sk-container-id-1 div.sk-item::before, #sk-container-id-1 div.sk-parallel-item::before {content: \"\";position: absolute;border-left: 1px solid gray;box-sizing: border-box;top: 0;bottom: 0;left: 50%;z-index: -1;}#sk-container-id-1 div.sk-parallel-item {display: flex;flex-direction: column;z-index: 1;position: relative;background-color: white;}#sk-container-id-1 div.sk-parallel-item:first-child::after {align-self: flex-end;width: 50%;}#sk-container-id-1 div.sk-parallel-item:last-child::after {align-self: flex-start;width: 50%;}#sk-container-id-1 div.sk-parallel-item:only-child::after {width: 0;}#sk-container-id-1 div.sk-dashed-wrapped {border: 1px dashed gray;margin: 0 0.4em 0.5em 0.4em;box-sizing: border-box;padding-bottom: 0.4em;background-color: white;}#sk-container-id-1 div.sk-label label {font-family: monospace;font-weight: bold;display: inline-block;line-height: 1.2em;}#sk-container-id-1 div.sk-label-container {text-align: center;}#sk-container-id-1 div.sk-container {/* jupyter's `normalize.less` sets `[hidden] { display: none; }` but bootstrap.min.css set `[hidden] { display: none !important; }` so we also need the `!important` here to be able to override the default hidden behavior on the sphinx rendered scikit-learn.org. See: https://github.com/scikit-learn/scikit-learn/issues/21755 */display: inline-block !important;position: relative;}#sk-container-id-1 div.sk-text-repr-fallback {display: none;}</style><div id=\"sk-container-id-1\" class=\"sk-top-container\"><div class=\"sk-text-repr-fallback\"><pre>DecisionTreeClassifier()</pre><b>In a Jupyter environment, please rerun this cell to show the HTML representation or trust the notebook. <br />On GitHub, the HTML representation is unable to render, please try loading this page with nbviewer.org.</b></div><div class=\"sk-container\" hidden><div class=\"sk-item\"><div class=\"sk-estimator sk-toggleable\"><input class=\"sk-toggleable__control sk-hidden--visually\" id=\"sk-estimator-id-1\" type=\"checkbox\" checked><label for=\"sk-estimator-id-1\" class=\"sk-toggleable__label sk-toggleable__label-arrow\">DecisionTreeClassifier</label><div class=\"sk-toggleable__content\"><pre>DecisionTreeClassifier()</pre></div></div></div></div></div>"
      ],
      "text/plain": [
       "DecisionTreeClassifier()"
      ]
     },
     "execution_count": 14,
     "metadata": {},
     "output_type": "execute_result"
    }
   ],
   "source": [
    "from sklearn.tree import DecisionTreeClassifier\n",
    "\n",
    "dtc = DecisionTreeClassifier()\n",
    "\n",
    "dtc.fit(X_train,y_train)"
   ]
  },
  {
   "cell_type": "code",
   "execution_count": 15,
   "id": "3f9f32ee",
   "metadata": {},
   "outputs": [
    {
     "data": {
      "text/plain": [
       "{'ccp_alpha': 0.0,\n",
       " 'class_weight': None,\n",
       " 'criterion': 'gini',\n",
       " 'max_depth': None,\n",
       " 'max_features': None,\n",
       " 'max_leaf_nodes': None,\n",
       " 'min_impurity_decrease': 0.0,\n",
       " 'min_samples_leaf': 1,\n",
       " 'min_samples_split': 2,\n",
       " 'min_weight_fraction_leaf': 0.0,\n",
       " 'random_state': None,\n",
       " 'splitter': 'best'}"
      ]
     },
     "execution_count": 15,
     "metadata": {},
     "output_type": "execute_result"
    }
   ],
   "source": [
    "dtc.get_params()"
   ]
  },
  {
   "cell_type": "code",
   "execution_count": 16,
   "id": "280d33a7",
   "metadata": {},
   "outputs": [
    {
     "data": {
      "text/plain": [
       "0.6235636260462477"
      ]
     },
     "execution_count": 16,
     "metadata": {},
     "output_type": "execute_result"
    }
   ],
   "source": [
    "dtc.score(X_test,y_test)"
   ]
  },
  {
   "cell_type": "code",
   "execution_count": 37,
   "id": "cdad7063",
   "metadata": {},
   "outputs": [
    {
     "name": "stdout",
     "output_type": "stream",
     "text": [
      "True Positive (TP):  11136\n",
      "False Negative (FN):  1499\n",
      "False Positive (FP):  2219\n",
      "True Negative (TN):  10495\n"
     ]
    }
   ],
   "source": [
    "predict = dtc.predict(X_test,check_input=True)\n",
    "\n",
    "data = {\n",
    "    'y_actual': y_test,\n",
    "    'y_predicted':predict\n",
    "}\n",
    "df_confusion_matrix = pd.DataFrame(data)\n",
    "confusion_matrix = pd.crosstab(df_confusion_matrix['y_actual'], df_confusion_matrix['y_predicted'], rownames=['Actual'], colnames=['Predicted'])\n",
    "\n",
    "# Decision Tree Result of Confusion Matrix\n",
    "print('True Positive (TP): ',confusion_matrix[1][1])\n",
    "print('False Negative (FN): ',confusion_matrix[1][0])\n",
    "print('False Positive (FP): ',confusion_matrix[0][1])\n",
    "print('True Negative (TN): ',confusion_matrix[0][0])\n"
   ]
  },
  {
   "cell_type": "code",
   "execution_count": 38,
   "id": "d2756654",
   "metadata": {},
   "outputs": [
    {
     "data": {
      "image/png": "[encoded data removed]",
      "text/plain": [
       "<Figure size 432x288 with 2 Axes>"
      ]
     },
     "metadata": {
      "needs_background": "light"
     },
     "output_type": "display_data"
    }
   ],
   "source": [
    "import seaborn as sn\n",
    "import matplotlib.pyplot as plt\n",
    "\n",
    "sn.heatmap(confusion_matrix, annot=True)\n",
    "plt.show()"
   ]
  },
  {
   "cell_type": "code",
   "execution_count": 39,
   "id": "ea23e94f",
   "metadata": {},
   "outputs": [
    {
     "name": "stdout",
     "output_type": "stream",
     "text": [
      "The Accuracy of the model is:  0.6235636260462477\n",
      "The Precision Score of the model is:  0.6909596459948958\n",
      "The Recall Score of the model is:  0.553688918863972\n",
      "The F1 Score of the model is:  0.5780760050854676\n"
     ]
    }
   ],
   "source": [
    "#Decision Tree Accuracy , Precision, Recall and F1 Score\n",
    "from sklearn.metrics import precision_score, recall_score, f1_score, accuracy_score\n",
    "Accuracy = accuracy_score(y_test,dtc.predict(X_test,check_input=True))\n",
    "Precision = precision_score(df_confusion_matrix['y_actual'], df_confusion_matrix['y_predicted'],average='macro')\n",
    "Recall = recall_score(df_confusion_matrix['y_actual'], df_confusion_matrix['y_predicted'],average=\"macro\")\n",
    "F1_score = f1_score(df_confusion_matrix['y_actual'], df_confusion_matrix['y_predicted'],average='macro')\n",
    "\n",
    "\n",
    "print (\"The Accuracy of the model is: \",Accuracy)\n",
    "print (\"The Precision Score of the model is: \",Precision)\n",
    "print (\"The Recall Score of the model is: \",Recall)\n",
    "print (\"The F1 Score of the model is: \",F1_score)"
   ]
  },
  {
   "cell_type": "code",
   "execution_count": 40,
   "id": "9713ef23",
   "metadata": {},
   "outputs": [
    {
     "data": {
      "text/html": [
       "<style>#sk-container-id-3 {color: black;background-color: white;}#sk-container-id-3 pre{padding: 0;}#sk-container-id-3 div.sk-toggleable {background-color: white;}#sk-container-id-3 label.sk-toggleable__label {cursor: pointer;display: block;width: 100%;margin-bottom: 0;padding: 0.3em;box-sizing: border-box;text-align: center;}#sk-container-id-3 label.sk-toggleable__label-arrow:before {content: \"▸\";float: left;margin-right: 0.25em;color: #696969;}#sk-container-id-3 label.sk-toggleable__label-arrow:hover:before {color: black;}#sk-container-id-3 div.sk-estimator:hover label.sk-toggleable__label-arrow:before {color: black;}#sk-container-id-3 div.sk-toggleable__content {max-height: 0;max-width: 0;overflow: hidden;text-align: left;background-color: #f0f8ff;}#sk-container-id-3 div.sk-toggleable__content pre {margin: 0.2em;color: black;border-radius: 0.25em;background-color: #f0f8ff;}#sk-container-id-3 input.sk-toggleable__control:checked~div.sk-toggleable__content {max-height: 200px;max-width: 100%;overflow: auto;}#sk-container-id-3 input.sk-toggleable__control:checked~label.sk-toggleable__label-arrow:before {content: \"▾\";}#sk-container-id-3 div.sk-estimator input.sk-toggleable__control:checked~label.sk-toggleable__label {background-color: #d4ebff;}#sk-container-id-3 div.sk-label input.sk-toggleable__control:checked~label.sk-toggleable__label {background-color: #d4ebff;}#sk-container-id-3 input.sk-hidden--visually {border: 0;clip: rect(1px 1px 1px 1px);clip: rect(1px, 1px, 1px, 1px);height: 1px;margin: -1px;overflow: hidden;padding: 0;position: absolute;width: 1px;}#sk-container-id-3 div.sk-estimator {font-family: monospace;background-color: #f0f8ff;border: 1px dotted black;border-radius: 0.25em;box-sizing: border-box;margin-bottom: 0.5em;}#sk-container-id-3 div.sk-estimator:hover {background-color: #d4ebff;}#sk-container-id-3 div.sk-parallel-item::after {content: \"\";width: 100%;border-bottom: 1px solid gray;flex-grow: 1;}#sk-container-id-3 div.sk-label:hover label.sk-toggleable__label {background-color: #d4ebff;}#sk-container-id-3 div.sk-serial::before {content: \"\";position: absolute;border-left: 1px solid gray;box-sizing: border-box;top: 0;bottom: 0;left: 50%;z-index: 0;}#sk-container-id-3 div.sk-serial {display: flex;flex-direction: column;align-items: center;background-color: white;padding-right: 0.2em;padding-left: 0.2em;position: relative;}#sk-container-id-3 div.sk-item {position: relative;z-index: 1;}#sk-container-id-3 div.sk-parallel {display: flex;align-items: stretch;justify-content: center;background-color: white;position: relative;}#sk-container-id-3 div.sk-item::before, #sk-container-id-3 div.sk-parallel-item::before {content: \"\";position: absolute;border-left: 1px solid gray;box-sizing: border-box;top: 0;bottom: 0;left: 50%;z-index: -1;}#sk-container-id-3 div.sk-parallel-item {display: flex;flex-direction: column;z-index: 1;position: relative;background-color: white;}#sk-container-id-3 div.sk-parallel-item:first-child::after {align-self: flex-end;width: 50%;}#sk-container-id-3 div.sk-parallel-item:last-child::after {align-self: flex-start;width: 50%;}#sk-container-id-3 div.sk-parallel-item:only-child::after {width: 0;}#sk-container-id-3 div.sk-dashed-wrapped {border: 1px dashed gray;margin: 0 0.4em 0.5em 0.4em;box-sizing: border-box;padding-bottom: 0.4em;background-color: white;}#sk-container-id-3 div.sk-label label {font-family: monospace;font-weight: bold;display: inline-block;line-height: 1.2em;}#sk-container-id-3 div.sk-label-container {text-align: center;}#sk-container-id-3 div.sk-container {/* jupyter's `normalize.less` sets `[hidden] { display: none; }` but bootstrap.min.css set `[hidden] { display: none !important; }` so we also need the `!important` here to be able to override the default hidden behavior on the sphinx rendered scikit-learn.org. See: https://github.com/scikit-learn/scikit-learn/issues/21755 */display: inline-block !important;position: relative;}#sk-container-id-3 div.sk-text-repr-fallback {display: none;}</style><div id=\"sk-container-id-3\" class=\"sk-top-container\"><div class=\"sk-text-repr-fallback\"><pre>MultinomialNB()</pre><b>In a Jupyter environment, please rerun this cell to show the HTML representation or trust the notebook. <br />On GitHub, the HTML representation is unable to render, please try loading this page with nbviewer.org.</b></div><div class=\"sk-container\" hidden><div class=\"sk-item\"><div class=\"sk-estimator sk-toggleable\"><input class=\"sk-toggleable__control sk-hidden--visually\" id=\"sk-estimator-id-3\" type=\"checkbox\" checked><label for=\"sk-estimator-id-3\" class=\"sk-toggleable__label sk-toggleable__label-arrow\">MultinomialNB</label><div class=\"sk-toggleable__content\"><pre>MultinomialNB()</pre></div></div></div></div></div>"
      ],
      "text/plain": [
       "MultinomialNB()"
      ]
     },
     "execution_count": 40,
     "metadata": {},
     "output_type": "execute_result"
    }
   ],
   "source": [
    "from sklearn.naive_bayes import MultinomialNB\n",
    "\n",
    "nav = MultinomialNB()\n",
    "\n",
    "nav.fit(X_train,y_train)"
   ]
  },
  {
   "cell_type": "code",
   "execution_count": 41,
   "id": "0d6d271a",
   "metadata": {},
   "outputs": [
    {
     "data": {
      "text/plain": [
       "0.609554546744219"
      ]
     },
     "execution_count": 41,
     "metadata": {},
     "output_type": "execute_result"
    }
   ],
   "source": [
    "nav.score(X_test,y_test)"
   ]
  },
  {
   "cell_type": "code",
   "execution_count": 42,
   "id": "aaac61d7",
   "metadata": {},
   "outputs": [
    {
     "name": "stdout",
     "output_type": "stream",
     "text": [
      "True Positive (TP):  10057\n",
      "False Negative (FN):  1232\n",
      "False Positive (FP):  2778\n",
      "True Negative (TN):  10388\n"
     ]
    }
   ],
   "source": [
    "nav_predict = nav.predict(X_test)\n",
    "\n",
    "nav_data = {\n",
    "    'y_actual': y_test,\n",
    "    'y_predicted':nav_predict\n",
    "}\n",
    "df_nav_confusion_matrix = pd.DataFrame(nav_data)\n",
    "nav_confusion_matrix = pd.crosstab(df_nav_confusion_matrix['y_actual'], df_nav_confusion_matrix['y_predicted'], rownames=['Actual'], colnames=['Predicted'])\n",
    "\n",
    "# Nav Bayes Result of Confusion Matrix\n",
    "\n",
    "print('True Positive (TP): ',nav_confusion_matrix[1][1])\n",
    "print('False Negative (FN): ',nav_confusion_matrix[1][0])\n",
    "print('False Positive (FP): ',nav_confusion_matrix[0][1])\n",
    "print('True Negative (TN): ',nav_confusion_matrix[0][0])"
   ]
  },
  {
   "cell_type": "code",
   "execution_count": 43,
   "id": "24c9c275",
   "metadata": {},
   "outputs": [
    {
     "name": "stdout",
     "output_type": "stream",
     "text": [
      "The Accuracy of the model is:  0.609554546744219\n",
      "The Precision Score of the model is:  0.6867330624619625\n",
      "The Recall Score of the model is:  0.534799816638781\n",
      "The F1 Score of the model is:  0.5578429655031804\n"
     ]
    }
   ],
   "source": [
    "Accuracy = accuracy_score(df_nav_confusion_matrix['y_actual'], df_nav_confusion_matrix['y_predicted'])\n",
    "Precision = precision_score(df_nav_confusion_matrix['y_actual'], df_nav_confusion_matrix['y_predicted'],average='macro')\n",
    "Recall = recall_score(df_nav_confusion_matrix['y_actual'], df_nav_confusion_matrix['y_predicted'],average=\"macro\")\n",
    "F1_score = f1_score(df_nav_confusion_matrix['y_actual'], df_nav_confusion_matrix['y_predicted'],average='macro')\n",
    "\n",
    "# Nav Bayes Accuracy , Precision, Recall and F1 Score\n",
    "print (\"The Accuracy of the model is: \",Accuracy)\n",
    "print (\"The Precision Score of the model is: \",Precision)\n",
    "print (\"The Recall Score of the model is: \",Recall)\n",
    "print (\"The F1 Score of the model is: \",F1_score)"
   ]
  },
  {
   "cell_type": "code",
   "execution_count": 44,
   "id": "31e9287b",
   "metadata": {},
   "outputs": [],
   "source": [
    " from sklearn.neural_network import MLPClassifier\n",
    "\n",
    "ann = MLPClassifier(hidden_layer_sizes=(8,8,8), activation='relu', solver='adam', max_iter=300)"
   ]
  },
  {
   "cell_type": "code",
   "execution_count": 45,
   "id": "b0e43fd0",
   "metadata": {},
   "outputs": [
    {
     "data": {
      "text/html": [
       "<style>#sk-container-id-4 {color: black;background-color: white;}#sk-container-id-4 pre{padding: 0;}#sk-container-id-4 div.sk-toggleable {background-color: white;}#sk-container-id-4 label.sk-toggleable__label {cursor: pointer;display: block;width: 100%;margin-bottom: 0;padding: 0.3em;box-sizing: border-box;text-align: center;}#sk-container-id-4 label.sk-toggleable__label-arrow:before {content: \"▸\";float: left;margin-right: 0.25em;color: #696969;}#sk-container-id-4 label.sk-toggleable__label-arrow:hover:before {color: black;}#sk-container-id-4 div.sk-estimator:hover label.sk-toggleable__label-arrow:before {color: black;}#sk-container-id-4 div.sk-toggleable__content {max-height: 0;max-width: 0;overflow: hidden;text-align: left;background-color: #f0f8ff;}#sk-container-id-4 div.sk-toggleable__content pre {margin: 0.2em;color: black;border-radius: 0.25em;background-color: #f0f8ff;}#sk-container-id-4 input.sk-toggleable__control:checked~div.sk-toggleable__content {max-height: 200px;max-width: 100%;overflow: auto;}#sk-container-id-4 input.sk-toggleable__control:checked~label.sk-toggleable__label-arrow:before {content: \"▾\";}#sk-container-id-4 div.sk-estimator input.sk-toggleable__control:checked~label.sk-toggleable__label {background-color: #d4ebff;}#sk-container-id-4 div.sk-label input.sk-toggleable__control:checked~label.sk-toggleable__label {background-color: #d4ebff;}#sk-container-id-4 input.sk-hidden--visually {border: 0;clip: rect(1px 1px 1px 1px);clip: rect(1px, 1px, 1px, 1px);height: 1px;margin: -1px;overflow: hidden;padding: 0;position: absolute;width: 1px;}#sk-container-id-4 div.sk-estimator {font-family: monospace;background-color: #f0f8ff;border: 1px dotted black;border-radius: 0.25em;box-sizing: border-box;margin-bottom: 0.5em;}#sk-container-id-4 div.sk-estimator:hover {background-color: #d4ebff;}#sk-container-id-4 div.sk-parallel-item::after {content: \"\";width: 100%;border-bottom: 1px solid gray;flex-grow: 1;}#sk-container-id-4 div.sk-label:hover label.sk-toggleable__label {background-color: #d4ebff;}#sk-container-id-4 div.sk-serial::before {content: \"\";position: absolute;border-left: 1px solid gray;box-sizing: border-box;top: 0;bottom: 0;left: 50%;z-index: 0;}#sk-container-id-4 div.sk-serial {display: flex;flex-direction: column;align-items: center;background-color: white;padding-right: 0.2em;padding-left: 0.2em;position: relative;}#sk-container-id-4 div.sk-item {position: relative;z-index: 1;}#sk-container-id-4 div.sk-parallel {display: flex;align-items: stretch;justify-content: center;background-color: white;position: relative;}#sk-container-id-4 div.sk-item::before, #sk-container-id-4 div.sk-parallel-item::before {content: \"\";position: absolute;border-left: 1px solid gray;box-sizing: border-box;top: 0;bottom: 0;left: 50%;z-index: -1;}#sk-container-id-4 div.sk-parallel-item {display: flex;flex-direction: column;z-index: 1;position: relative;background-color: white;}#sk-container-id-4 div.sk-parallel-item:first-child::after {align-self: flex-end;width: 50%;}#sk-container-id-4 div.sk-parallel-item:last-child::after {align-self: flex-start;width: 50%;}#sk-container-id-4 div.sk-parallel-item:only-child::after {width: 0;}#sk-container-id-4 div.sk-dashed-wrapped {border: 1px dashed gray;margin: 0 0.4em 0.5em 0.4em;box-sizing: border-box;padding-bottom: 0.4em;background-color: white;}#sk-container-id-4 div.sk-label label {font-family: monospace;font-weight: bold;display: inline-block;line-height: 1.2em;}#sk-container-id-4 div.sk-label-container {text-align: center;}#sk-container-id-4 div.sk-container {/* jupyter's `normalize.less` sets `[hidden] { display: none; }` but bootstrap.min.css set `[hidden] { display: none !important; }` so we also need the `!important` here to be able to override the default hidden behavior on the sphinx rendered scikit-learn.org. See: https://github.com/scikit-learn/scikit-learn/issues/21755 */display: inline-block !important;position: relative;}#sk-container-id-4 div.sk-text-repr-fallback {display: none;}</style><div id=\"sk-container-id-4\" class=\"sk-top-container\"><div class=\"sk-text-repr-fallback\"><pre>MLPClassifier(hidden_layer_sizes=(8, 8, 8), max_iter=300)</pre><b>In a Jupyter environment, please rerun this cell to show the HTML representation or trust the notebook. <br />On GitHub, the HTML representation is unable to render, please try loading this page with nbviewer.org.</b></div><div class=\"sk-container\" hidden><div class=\"sk-item\"><div class=\"sk-estimator sk-toggleable\"><input class=\"sk-toggleable__control sk-hidden--visually\" id=\"sk-estimator-id-4\" type=\"checkbox\" checked><label for=\"sk-estimator-id-4\" class=\"sk-toggleable__label sk-toggleable__label-arrow\">MLPClassifier</label><div class=\"sk-toggleable__content\"><pre>MLPClassifier(hidden_layer_sizes=(8, 8, 8), max_iter=300)</pre></div></div></div></div></div>"
      ],
      "text/plain": [
       "MLPClassifier(hidden_layer_sizes=(8, 8, 8), max_iter=300)"
      ]
     },
     "execution_count": 45,
     "metadata": {},
     "output_type": "execute_result"
    }
   ],
   "source": [
    "ann.fit(X_train,y_train)"
   ]
  },
  {
   "cell_type": "code",
   "execution_count": 46,
   "id": "ec9361cb",
   "metadata": {},
   "outputs": [
    {
     "data": {
      "text/plain": [
       "0.6187520688513737"
      ]
     },
     "execution_count": 46,
     "metadata": {},
     "output_type": "execute_result"
    }
   ],
   "source": [
    "ann.score(X_test,y_test)"
   ]
  },
  {
   "cell_type": "code",
   "execution_count": 47,
   "id": "4228d721",
   "metadata": {},
   "outputs": [
    {
     "name": "stdout",
     "output_type": "stream",
     "text": [
      "True Positive (TP):  11145\n",
      "False Negative (FN):  1724\n",
      "False Positive (FP):  2226\n",
      "True Negative (TN):  10397\n"
     ]
    }
   ],
   "source": [
    "ann_predict = ann.predict(X_test)\n",
    "\n",
    "ann_data = {\n",
    "    'y_actual': y_test,\n",
    "    'y_predicted':ann_predict\n",
    "}\n",
    "df_ann_confusion_matrix = pd.DataFrame(ann_data)\n",
    "ann_confusion_matrix = pd.crosstab(df_ann_confusion_matrix['y_actual'], df_ann_confusion_matrix['y_predicted'], rownames=['Actual'], colnames=['Predicted'])\n",
    "\n",
    "# ANN Result of Confusion Matrix\n",
    "\n",
    "print('True Positive (TP): ',ann_confusion_matrix[1][1])\n",
    "print('False Negative (FN): ',ann_confusion_matrix[1][0])\n",
    "print('False Positive (FP): ',ann_confusion_matrix[0][1])\n",
    "print('True Negative (TN): ',ann_confusion_matrix[0][0])"
   ]
  },
  {
   "cell_type": "code",
   "execution_count": 29,
   "id": "25ead090",
   "metadata": {},
   "outputs": [
    {
     "name": "stdout",
     "output_type": "stream",
     "text": [
      "The Accuracy of the model is:  0.6177944862155389\n",
      "The Precision Score of the model is:  0.681898006370852\n",
      "The Recall Score of the model is:  0.5459176699060213\n",
      "The F1 Score of the model is:  0.5697299643974878\n"
     ]
    }
   ],
   "source": [
    "Accuracy = accuracy_score(df_ann_confusion_matrix['y_actual'], df_ann_confusion_matrix['y_predicted'])\n",
    "Precision = precision_score(df_ann_confusion_matrix['y_actual'], df_ann_confusion_matrix['y_predicted'],average='macro')\n",
    "Recall = recall_score(df_ann_confusion_matrix['y_actual'], df_ann_confusion_matrix['y_predicted'],average=\"macro\")\n",
    "F1_score = f1_score(df_ann_confusion_matrix['y_actual'], df_ann_confusion_matrix['y_predicted'],average='macro')\n",
    "\n",
    "# ANN Accuracy , Precision, Recall and F1 Score\n",
    "print (\"The Accuracy of the model is: \",Accuracy)\n",
    "print (\"The Precision Score of the model is: \",Precision)\n",
    "print (\"The Recall Score of the model is: \",Recall)\n",
    "print (\"The F1 Score of the model is: \",F1_score)"
   ]
  },
  {
   "cell_type": "code",
   "execution_count": null,
   "id": "fb67c628",
   "metadata": {},
   "outputs": [],
   "source": []
  }
 ],
 "metadata": {
  "kernelspec": {
   "display_name": "Python 3 (ipykernel)",
   "language": "python",
   "name": "python3"
  },
  "language_info": {
   "codemirror_mode": {
    "name": "ipython",
    "version": 3
   },
   "file_extension": ".py",
   "mimetype": "text/x-python",
   "name": "python",
   "nbconvert_exporter": "python",
   "pygments_lexer": "ipython3",
   "version": "3.7.9"
  }
 },
 "nbformat": 4,
 "nbformat_minor": 5
}
