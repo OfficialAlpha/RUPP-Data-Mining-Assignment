{
 "cells": [
  {
   "cell_type": "code",
   "execution_count": 1,
   "id": "f2f0884c",
   "metadata": {},
   "outputs": [],
   "source": [
    "# Import pandas library\n",
    "import pandas as pd\n",
    "import numpy as np\n",
    "\n",
    "# Read Dataset\n",
    "filename = 'newsCorpora_with_header.csv'\n",
    "df = pd.read_csv(filename, encoding=\"utf8\", sep='\\t', quotechar=\" \", engine='python', usecols=[\"TITLE\", \"CATEGORY\"])"
   ]
  },
  {
   "cell_type": "code",
   "execution_count": 2,
   "id": "15f87b78",
   "metadata": {},
   "outputs": [
    {
     "name": "stdout",
     "output_type": "stream",
     "text": [
      "                                                    TITLE CATEGORY\n",
      "0       Fed official says weak data caused by weather,...        b\n",
      "1       Fed's Charles Plosser sees high bar for change...        b\n",
      "2       US open: Stocks fall after Fed official hints ...        b\n",
      "3       Fed risks falling 'behind the curve', Charles ...        b\n",
      "4       Fed's Plosser: Nasty Weather Has Curbed Job Gr...        b\n",
      "...                                                   ...      ...\n",
      "422932  Surgeons to remove 4-year-old's rib to rebuild...        m\n",
      "422933  Boy to have surgery on esophagus after battery...        m\n",
      "422934  Child who swallowed battery to have reconstruc...        m\n",
      "422935  Phoenix boy undergoes surgery to repair throat...        m\n",
      "422936  Phoenix boy undergoes surgery to repair throat...        m\n",
      "\n",
      "[422937 rows x 2 columns]\n"
     ]
    }
   ],
   "source": [
    "print(df)"
   ]
  },
  {
   "cell_type": "code",
   "execution_count": 3,
   "id": "ee0e4a09",
   "metadata": {},
   "outputs": [],
   "source": [
    "import texthero as hero\n",
    "from texthero import preprocessing\n",
    "\n",
    "custom_pipeline = [\n",
    "    preprocessing.lowercase,\n",
    "    preprocessing.remove_digits,\n",
    "    preprocessing.remove_punctuation,\n",
    "    preprocessing.remove_diacritics,\n",
    "    preprocessing.remove_stopwords,\n",
    "    preprocessing.remove_whitespace,\n",
    "    preprocessing.remove_html_tags,\n",
    "    preprocessing.remove_urls,\n",
    "]\n",
    "\n",
    "df['TITLE'] = hero.clean(df['TITLE'], pipeline=custom_pipeline)"
   ]
  },
  {
   "cell_type": "code",
   "execution_count": 4,
   "id": "cf482d9e",
   "metadata": {},
   "outputs": [
    {
     "name": "stdout",
     "output_type": "stream",
     "text": [
      "                                                    TITLE CATEGORY\n",
      "0       fed official says weak data caused weather slo...        b\n",
      "1       fed charles plosser sees high bar change pace ...        b\n",
      "2       us open stocks fall fed official hints acceler...        b\n",
      "3       fed risks falling behind curve charles plosser...        b\n",
      "4             fed plosser nasty weather curbed job growth        b\n",
      "...                                                   ...      ...\n",
      "422932  surgeons remove year old rib rebuild damaged t...        m\n",
      "422933    boy surgery esophagus battery burns hole throat        m\n",
      "422934  child swallowed battery reconstructive surgery...        m\n",
      "422935  phoenix boy undergoes surgery repair throat da...        m\n",
      "422936  phoenix boy undergoes surgery repair throat da...        m\n",
      "\n",
      "[422937 rows x 2 columns]\n"
     ]
    }
   ],
   "source": [
    "print(df)"
   ]
  },
  {
   "cell_type": "code",
   "execution_count": 5,
   "id": "6bbb2632",
   "metadata": {},
   "outputs": [],
   "source": [
    "df['tfidf'] = (\n",
    "    hero.tfidf(df['TITLE'], max_features=100)\n",
    ")"
   ]
  },
  {
   "cell_type": "code",
   "execution_count": 6,
   "id": "2ed88d75",
   "metadata": {},
   "outputs": [
    {
     "name": "stdout",
     "output_type": "stream",
     "text": [
      "                                                    TITLE CATEGORY  \\\n",
      "0       fed official says weak data caused weather slo...        b   \n",
      "1       fed charles plosser sees high bar change pace ...        b   \n",
      "2       us open stocks fall fed official hints acceler...        b   \n",
      "3       fed risks falling behind curve charles plosser...        b   \n",
      "4             fed plosser nasty weather curbed job growth        b   \n",
      "...                                                   ...      ...   \n",
      "422932  surgeons remove year old rib rebuild damaged t...        m   \n",
      "422933    boy surgery esophagus battery burns hole throat        m   \n",
      "422934  child swallowed battery reconstructive surgery...        m   \n",
      "422935  phoenix boy undergoes surgery repair throat da...        m   \n",
      "422936  phoenix boy undergoes surgery repair throat da...        m   \n",
      "\n",
      "                                                    tfidf  \n",
      "0       [0.0, 0.0, 0.0, 0.0, 0.0, 0.0, 0.0, 0.0, 0.0, ...  \n",
      "1       [0.0, 0.0, 0.0, 0.0, 0.0, 0.0, 0.0, 0.0, 0.0, ...  \n",
      "2       [0.0, 0.0, 0.0, 0.0, 0.0, 0.0, 0.0, 0.0, 0.0, ...  \n",
      "3       [0.0, 0.0, 0.0, 0.0, 0.0, 0.0, 0.0, 0.0, 0.0, ...  \n",
      "4       [0.0, 0.0, 0.0, 0.0, 0.0, 0.0, 0.0, 0.0, 0.0, ...  \n",
      "...                                                   ...  \n",
      "422932  [0.0, 0.0, 0.0, 0.0, 0.0, 0.0, 0.0, 0.0, 0.0, ...  \n",
      "422933  [0.0, 0.0, 0.0, 0.0, 0.0, 0.0, 0.0, 0.0, 0.0, ...  \n",
      "422934  [0.0, 0.0, 0.0, 0.0, 0.0, 0.0, 0.0, 0.0, 0.0, ...  \n",
      "422935  [0.0, 0.0, 0.0, 0.0, 0.0, 0.0, 0.0, 0.0, 0.0, ...  \n",
      "422936  [0.0, 0.0, 0.0, 0.0, 0.0, 0.0, 0.0, 0.0, 0.0, ...  \n",
      "\n",
      "[422937 rows x 3 columns]\n"
     ]
    }
   ],
   "source": [
    "print(df)"
   ]
  },
  {
   "cell_type": "code",
   "execution_count": 7,
   "id": "bf907937",
   "metadata": {},
   "outputs": [],
   "source": [
    "X = df['tfidf'].to_list()"
   ]
  },
  {
   "cell_type": "code",
   "execution_count": 8,
   "id": "e0c7df78",
   "metadata": {},
   "outputs": [
    {
     "data": {
      "text/plain": [
       "list"
      ]
     },
     "execution_count": 8,
     "metadata": {},
     "output_type": "execute_result"
    }
   ],
   "source": [
    "type(X)"
   ]
  },
  {
   "cell_type": "code",
   "execution_count": 9,
   "id": "53764c55",
   "metadata": {},
   "outputs": [
    {
     "data": {
      "text/plain": [
       "0    b\n",
       "1    b\n",
       "2    b\n",
       "3    b\n",
       "4    b\n",
       "Name: CATEGORY, dtype: object"
      ]
     },
     "execution_count": 9,
     "metadata": {},
     "output_type": "execute_result"
    }
   ],
   "source": [
    "df['CATEGORY'].head(5)"
   ]
  },
  {
   "cell_type": "code",
   "execution_count": 10,
   "id": "58559a54",
   "metadata": {},
   "outputs": [
    {
     "data": {
      "text/plain": [
       "{'b': 0, 't': 1, 'e': 2, 'm': 3}"
      ]
     },
     "execution_count": 10,
     "metadata": {},
     "output_type": "execute_result"
    }
   ],
   "source": [
    "category_ids = {}\n",
    "current_id = 0\n",
    "y = []\n",
    "\n",
    "# Generate label to number\n",
    "for label in df['CATEGORY']:\n",
    "    if not label in category_ids:\n",
    "        category_ids[label] = current_id\n",
    "        current_id +=1\n",
    "    id_ = category_ids[label]\n",
    "    y.append(id_)\n",
    "\n",
    "category_ids"
   ]
  },
  {
   "cell_type": "code",
   "execution_count": 11,
   "id": "37e3034f",
   "metadata": {},
   "outputs": [
    {
     "data": {
      "text/plain": [
       "list"
      ]
     },
     "execution_count": 11,
     "metadata": {},
     "output_type": "execute_result"
    }
   ],
   "source": [
    "type(y)"
   ]
  },
  {
   "cell_type": "code",
   "execution_count": 12,
   "id": "703accb7",
   "metadata": {},
   "outputs": [],
   "source": [
    "from sklearn.model_selection import train_test_split\n",
    "X_train, X_test, y_train, y_test = train_test_split(X,y,test_size=0.2)"
   ]
  },
  {
   "cell_type": "code",
   "execution_count": 13,
   "id": "936ecf07",
   "metadata": {},
   "outputs": [
    {
     "data": {
      "text/plain": [
       "DecisionTreeClassifier()"
      ]
     },
     "execution_count": 13,
     "metadata": {},
     "output_type": "execute_result"
    }
   ],
   "source": [
    "from sklearn.tree import DecisionTreeClassifier\n",
    "dtc = DecisionTreeClassifier()\n",
    "dtc.fit(X_train,y_train)"
   ]
  },
  {
   "cell_type": "code",
   "execution_count": 14,
   "id": "5a2f2643",
   "metadata": {},
   "outputs": [
    {
     "data": {
      "text/plain": [
       "{'ccp_alpha': 0.0,\n",
       " 'class_weight': None,\n",
       " 'criterion': 'gini',\n",
       " 'max_depth': None,\n",
       " 'max_features': None,\n",
       " 'max_leaf_nodes': None,\n",
       " 'min_impurity_decrease': 0.0,\n",
       " 'min_samples_leaf': 1,\n",
       " 'min_samples_split': 2,\n",
       " 'min_weight_fraction_leaf': 0.0,\n",
       " 'random_state': None,\n",
       " 'splitter': 'best'}"
      ]
     },
     "execution_count": 14,
     "metadata": {},
     "output_type": "execute_result"
    }
   ],
   "source": [
    "dtc.get_params()"
   ]
  },
  {
   "cell_type": "code",
   "execution_count": 15,
   "id": "6b1e0d75",
   "metadata": {},
   "outputs": [
    {
     "data": {
      "text/plain": [
       "0.6209982503428382"
      ]
     },
     "execution_count": 15,
     "metadata": {},
     "output_type": "execute_result"
    }
   ],
   "source": [
    "dtc.score(X_test,y_test)"
   ]
  },
  {
   "cell_type": "code",
   "execution_count": 16,
   "id": "3bdc6ac9",
   "metadata": {},
   "outputs": [
    {
     "name": "stdout",
     "output_type": "stream",
     "text": [
      "True Positive (TP):  11204\n",
      "False Negative (FN):  1496\n",
      "False Positive (FP):  2353\n",
      "True Negative (TN):  10410\n"
     ]
    }
   ],
   "source": [
    "predict = dtc.predict(X_test,check_input=True)\n",
    "\n",
    "data = {\n",
    "    'y_actual': y_test,\n",
    "    'y_predicted':predict\n",
    "}\n",
    "df_confusion_matrix = pd.DataFrame(data)\n",
    "confusion_matrix = pd.crosstab(df_confusion_matrix['y_actual'], df_confusion_matrix['y_predicted'], rownames=['Actual'], colnames=['Predicted'])\n",
    "\n",
    "# Decision Tree Result of Confusion Matrix\n",
    "print('True Positive (TP): ',confusion_matrix[1][1])\n",
    "print('False Negative (FN): ',confusion_matrix[1][0])\n",
    "print('False Positive (FP): ',confusion_matrix[0][1])\n",
    "print('True Negative (TN): ',confusion_matrix[0][0])"
   ]
  },
  {
   "cell_type": "code",
   "execution_count": 17,
   "id": "aec2ebb7",
   "metadata": {},
   "outputs": [
    {
     "data": {
      "image/png": "[encoded data removed]",
      "text/plain": [
       "<Figure size 640x480 with 2 Axes>"
      ]
     },
     "metadata": {},
     "output_type": "display_data"
    }
   ],
   "source": [
    "import seaborn as sn\n",
    "import matplotlib.pyplot as plt\n",
    "\n",
    "sn.heatmap(confusion_matrix, annot=True)\n",
    "plt.show()"
   ]
  },
  {
   "cell_type": "code",
   "execution_count": 18,
   "id": "13790479",
   "metadata": {},
   "outputs": [
    {
     "name": "stdout",
     "output_type": "stream",
     "text": [
      "The Accuracy of the model is:  0.6209982503428382\n",
      "The Precision Score of the model is:  0.6827033471695552\n",
      "The Recall Score of the model is:  0.5501326679174376\n",
      "The F1 Score of the model is:  0.5739037797723952\n"
     ]
    }
   ],
   "source": [
    "# Decision Tree Accuracy, Precision, Recall and F1 Score\n",
    "from sklearn.metrics import precision_score, recall_score, f1_score, accuracy_score\n",
    "Accuracy = accuracy_score(y_test,dtc.predict(X_test,check_input=True))\n",
    "Precision = precision_score(df_confusion_matrix['y_actual'], df_confusion_matrix['y_predicted'],average='macro')\n",
    "Recall = recall_score(df_confusion_matrix['y_actual'], df_confusion_matrix['y_predicted'],average=\"macro\")\n",
    "F1_score = f1_score(df_confusion_matrix['y_actual'], df_confusion_matrix['y_predicted'],average='macro')\n",
    "\n",
    "print (\"The Accuracy of the model is: \",Accuracy)\n",
    "print (\"The Precision Score of the model is: \",Precision)\n",
    "print (\"The Recall Score of the model is: \",Recall)\n",
    "print (\"The F1 Score of the model is: \",F1_score)"
   ]
  },
  {
   "cell_type": "code",
   "execution_count": 19,
   "id": "380af917",
   "metadata": {},
   "outputs": [
    {
     "data": {
      "text/plain": [
       "MultinomialNB()"
      ]
     },
     "execution_count": 19,
     "metadata": {},
     "output_type": "execute_result"
    }
   ],
   "source": [
    "from sklearn.naive_bayes import MultinomialNB\n",
    "nav = MultinomialNB()\n",
    "nav.fit(X_train,y_train)"
   ]
  },
  {
   "cell_type": "code",
   "execution_count": 20,
   "id": "e3fca8e5",
   "metadata": {},
   "outputs": [
    {
     "data": {
      "text/plain": [
       "0.6082068378493404"
      ]
     },
     "execution_count": 20,
     "metadata": {},
     "output_type": "execute_result"
    }
   ],
   "source": [
    "nav.score(X_test,y_test)"
   ]
  },
  {
   "cell_type": "code",
   "execution_count": 21,
   "id": "6681cf88",
   "metadata": {},
   "outputs": [
    {
     "name": "stdout",
     "output_type": "stream",
     "text": [
      "True Positive (TP):  10127\n",
      "False Negative (FN):  1136\n",
      "False Positive (FP):  2874\n",
      "True Negative (TN):  10270\n"
     ]
    }
   ],
   "source": [
    "nav_predict = nav.predict(X_test)\n",
    "\n",
    "nav_data = {\n",
    "    'y_actual': y_test,\n",
    "    'y_predicted':nav_predict\n",
    "}\n",
    "df_nav_confusion_matrix = pd.DataFrame(nav_data)\n",
    "nav_confusion_matrix = pd.crosstab(df_nav_confusion_matrix['y_actual'], df_nav_confusion_matrix['y_predicted'], rownames=['Actual'], colnames=['Predicted'])\n",
    "\n",
    "# Nav Bayes Result of Confusion Matrix\n",
    "print('True Positive (TP): ',nav_confusion_matrix[1][1])\n",
    "print('False Negative (FN): ',nav_confusion_matrix[1][0])\n",
    "print('False Positive (FP): ',nav_confusion_matrix[0][1])\n",
    "print('True Negative (TN): ',nav_confusion_matrix[0][0])"
   ]
  },
  {
   "cell_type": "code",
   "execution_count": 22,
   "id": "a1e03a6a",
   "metadata": {},
   "outputs": [
    {
     "name": "stdout",
     "output_type": "stream",
     "text": [
      "The Accuracy of the model is:  0.6082068378493404\n",
      "The Precision Score of the model is:  0.6813339476646205\n",
      "The Recall Score of the model is:  0.5330092168529559\n",
      "The F1 Score of the model is:  0.5558399565804789\n"
     ]
    }
   ],
   "source": [
    "Accuracy = accuracy_score(df_nav_confusion_matrix['y_actual'], df_nav_confusion_matrix['y_predicted'])\n",
    "Precision = precision_score(df_nav_confusion_matrix['y_actual'], df_nav_confusion_matrix['y_predicted'],average='macro')\n",
    "Recall = recall_score(df_nav_confusion_matrix['y_actual'], df_nav_confusion_matrix['y_predicted'],average=\"macro\")\n",
    "F1_score = f1_score(df_nav_confusion_matrix['y_actual'], df_nav_confusion_matrix['y_predicted'],average='macro')\n",
    "\n",
    "# Nav Bayes Accuracy , Precision, Recall and F1 Score\n",
    "print (\"The Accuracy of the model is: \",Accuracy)\n",
    "print (\"The Precision Score of the model is: \",Precision)\n",
    "print (\"The Recall Score of the model is: \",Recall)\n",
    "print (\"The F1 Score of the model is: \",F1_score)"
   ]
  },
  {
   "cell_type": "code",
   "execution_count": 23,
   "id": "1e24cfb1",
   "metadata": {},
   "outputs": [],
   "source": [
    "from sklearn.neural_network import MLPClassifier\n",
    "ann = MLPClassifier(hidden_layer_sizes=(8,8,8), activation='relu', solver='adam', max_iter=300)"
   ]
  },
  {
   "cell_type": "code",
   "execution_count": 24,
   "id": "ceca0e0d",
   "metadata": {},
   "outputs": [
    {
     "data": {
      "text/plain": [
       "MLPClassifier(hidden_layer_sizes=(8, 8, 8), max_iter=300)"
      ]
     },
     "execution_count": 24,
     "metadata": {},
     "output_type": "execute_result"
    }
   ],
   "source": [
    "ann.fit(X_train,y_train)"
   ]
  },
  {
   "cell_type": "code",
   "execution_count": 25,
   "id": "39063b17",
   "metadata": {},
   "outputs": [
    {
     "data": {
      "text/plain": [
       "0.6163167352343122"
      ]
     },
     "execution_count": 25,
     "metadata": {},
     "output_type": "execute_result"
    }
   ],
   "source": [
    "ann.score(X_test,y_test)"
   ]
  },
  {
   "cell_type": "code",
   "execution_count": 26,
   "id": "1e1491e8",
   "metadata": {},
   "outputs": [
    {
     "name": "stdout",
     "output_type": "stream",
     "text": [
      "True Positive (TP):  10740\n",
      "False Negative (FN):  1321\n",
      "False Positive (FP):  2666\n",
      "True Negative (TN):  10514\n"
     ]
    }
   ],
   "source": [
    "ann_predict = ann.predict(X_test)\n",
    "\n",
    "ann_data = {\n",
    "    'y_actual': y_test,\n",
    "    'y_predicted':ann_predict\n",
    "}\n",
    "df_ann_confusion_matrix = pd.DataFrame(ann_data)\n",
    "ann_confusion_matrix = pd.crosstab(df_ann_confusion_matrix['y_actual'], df_ann_confusion_matrix['y_predicted'], rownames=['Actual'], colnames=['Predicted'])\n",
    "\n",
    "# ANN Result of Confusion Matrix\n",
    "print('True Positive (TP): ',ann_confusion_matrix[1][1])\n",
    "print('False Negative (FN): ',ann_confusion_matrix[1][0])\n",
    "print('False Positive (FP): ',ann_confusion_matrix[0][1])\n",
    "print('True Negative (TN): ',ann_confusion_matrix[0][0])"
   ]
  },
  {
   "cell_type": "code",
   "execution_count": 27,
   "id": "57f23287",
   "metadata": {},
   "outputs": [
    {
     "name": "stdout",
     "output_type": "stream",
     "text": [
      "The Accuracy of the model is:  0.6163167352343122\n",
      "The Precision Score of the model is:  0.6814296349146927\n",
      "The Recall Score of the model is:  0.5438155095771033\n",
      "The F1 Score of the model is:  0.5673867927615918\n"
     ]
    }
   ],
   "source": [
    "Accuracy = accuracy_score(df_ann_confusion_matrix['y_actual'], df_ann_confusion_matrix['y_predicted'])\n",
    "Precision = precision_score(df_ann_confusion_matrix['y_actual'], df_ann_confusion_matrix['y_predicted'],average='macro')\n",
    "Recall = recall_score(df_ann_confusion_matrix['y_actual'], df_ann_confusion_matrix['y_predicted'],average=\"macro\")\n",
    "F1_score = f1_score(df_ann_confusion_matrix['y_actual'], df_ann_confusion_matrix['y_predicted'],average='macro')\n",
    "\n",
    "# ANN Accuracy, Precision, Recall and F1 Score\n",
    "print (\"The Accuracy of the model is: \",Accuracy)\n",
    "print (\"The Precision Score of the model is: \",Precision)\n",
    "print (\"The Recall Score of the model is: \",Recall)\n",
    "print (\"The F1 Score of the model is: \",F1_score)"
   ]
  },
  {
   "cell_type": "code",
   "execution_count": null,
   "id": "1b320092",
   "metadata": {},
   "outputs": [],
   "source": []
  }
 ],
 "metadata": {
  "kernelspec": {
   "display_name": "Python 3 (ipykernel)",
   "language": "python",
   "name": "python3"
  },
  "language_info": {
   "codemirror_mode": {
    "name": "ipython",
    "version": 3
   },
   "file_extension": ".py",
   "mimetype": "text/x-python",
   "name": "python",
   "nbconvert_exporter": "python",
   "pygments_lexer": "ipython3",
   "version": "3.7.9"
  }
 },
 "nbformat": 4,
 "nbformat_minor": 5
}
