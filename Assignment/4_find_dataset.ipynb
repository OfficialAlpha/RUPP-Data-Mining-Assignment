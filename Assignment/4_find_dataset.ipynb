{
 "cells": [
  {
   "cell_type": "code",
   "execution_count": 9,
   "id": "f3da9227",
   "metadata": {},
   "outputs": [],
   "source": [
    "# Import pandas library\n",
    "import pandas as pd\n",
    "\n",
    "# Read Dataset\n",
    "filename = 'newsCorpora_with_header.csv'\n",
    "df = pd.read_csv(filename, encoding=\"utf8\", sep='\\t', quotechar=\" \", engine='python', usecols=[\"TITLE\", \"CATEGORY\"])"
   ]
  },
  {
   "cell_type": "code",
   "execution_count": 19,
   "id": "37b2465f",
   "metadata": {},
   "outputs": [
    {
     "data": {
      "text/plain": [
       "0         Fed official says weak data caused by weather,...\n",
       "1         Fed's Charles Plosser sees high bar for change...\n",
       "2         US open: Stocks fall after Fed official hints ...\n",
       "3         Fed risks falling 'behind the curve', Charles ...\n",
       "4         Fed's Plosser: Nasty Weather Has Curbed Job Gr...\n",
       "                                ...                        \n",
       "422932    Surgeons to remove 4-year-old's rib to rebuild...\n",
       "422933    Boy to have surgery on esophagus after battery...\n",
       "422934    Child who swallowed battery to have reconstruc...\n",
       "422935    Phoenix boy undergoes surgery to repair throat...\n",
       "422936    Phoenix boy undergoes surgery to repair throat...\n",
       "Name: TITLE, Length: 422937, dtype: object"
      ]
     },
     "execution_count": 19,
     "metadata": {},
     "output_type": "execute_result"
    }
   ],
   "source": [
    "df[\"TITLE\"]"
   ]
  },
  {
   "cell_type": "code",
   "execution_count": 20,
   "id": "e9329e74",
   "metadata": {},
   "outputs": [
    {
     "data": {
      "text/plain": [
       "0         b\n",
       "1         b\n",
       "2         b\n",
       "3         b\n",
       "4         b\n",
       "         ..\n",
       "422932    m\n",
       "422933    m\n",
       "422934    m\n",
       "422935    m\n",
       "422936    m\n",
       "Name: CATEGORY, Length: 422937, dtype: object"
      ]
     },
     "execution_count": 20,
     "metadata": {},
     "output_type": "execute_result"
    }
   ],
   "source": [
    "df[\"CATEGORY\"]"
   ]
  },
  {
   "cell_type": "code",
   "execution_count": null,
   "id": "3df20fbb",
   "metadata": {},
   "outputs": [],
   "source": []
  }
 ],
 "metadata": {
  "kernelspec": {
   "display_name": "Python 3 (ipykernel)",
   "language": "python",
   "name": "python3"
  },
  "language_info": {
   "codemirror_mode": {
    "name": "ipython",
    "version": 3
   },
   "file_extension": ".py",
   "mimetype": "text/x-python",
   "name": "python",
   "nbconvert_exporter": "python",
   "pygments_lexer": "ipython3",
   "version": "3.9.13"
  }
 },
 "nbformat": 4,
 "nbformat_minor": 5
}
